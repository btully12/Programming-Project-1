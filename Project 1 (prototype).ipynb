{
 "cells": [
  {
   "cell_type": "code",
   "execution_count": 22,
   "id": "a821f86d",
   "metadata": {},
   "outputs": [],
   "source": [
    "class color:\n",
    "   PURPLE = '\\033[95m'\n",
    "   CYAN = '\\033[96m'\n",
    "   DARKCYAN = '\\033[36m'\n",
    "   BLUE = '\\033[94m'\n",
    "   GREEN = '\\033[92m'\n",
    "   YELLOW = '\\033[93m'\n",
    "   RED = '\\033[91m'\n",
    "   BOLD = '\\033[1m'\n",
    "   UNDERLINE = '\\033[4m'\n",
    "   END = '\\033[0m' \n",
    "    \n",
    "    \n",
    "#we used this to be able to make words"
   ]
  },
  {
   "cell_type": "code",
   "execution_count": null,
   "id": "700f0969",
   "metadata": {},
   "outputs": [
    {
     "name": "stdout",
     "output_type": "stream",
     "text": [
      "Want to play Rock, Paper, Scissors? Type Y or N:   Y\n",
      "Lets Play! 1.....2...3...Rock,Paper,or Scissors SHOOT    Rock\n",
      "\u001b[1mYou picked Rock and the computer picked Rock. \u001b[0m\n",
      "\u001b[1mGASP! It's a tie\u001b[0m\n",
      "Lets Play! 1.....2...3...Rock,Paper,or Scissors SHOOT    Paper\n",
      "\u001b[1mYou picked Paper and the computer picked Rock. \u001b[0m\n",
      "\u001b[1mPaper beats rock! You won!\u001b[0m\n"
     ]
    }
   ],
   "source": [
    "import random  #This imports the random library in order for the computer to randomly select 3 choices\n",
    "\n",
    "possible_choices=[\"Rock\", \"Paper\", \"Scissors\"] \n",
    "#These are the three possible choices that the computer can choose from each round\n",
    "\n",
    "computer_choice=random.choice(possible_choices) #This tells the computer to pick a random choice from the list\n",
    "\n",
    "\n",
    "npc=input(\"Want to play Rock, Paper, Scissors? Type Y or N:   \" )  \n",
    "#Gives the user the ability to play or not play. Consider this a main menu in a video game\n",
    "\n",
    "if (npc==\"N\"):       #if user input is \"N\", it stops the game from even starting\n",
    "    print(color.BOLD + \"GAME OVER\" + color.END)\n",
    "    \n",
    "if (npc==\"Y\"):\n",
    "    while True:   #Allows the program to loop itself to keep playing until a break statement is used \n",
    "        \n",
    "        player_1=input((color.BOLD + \"Lets Play! 1.....2...3...Rock,Paper,or Scissors SHOOT    \" + color.END))  #Type \"Done\" to stop\n",
    "        #Input for user to type Rock, Paper, or Scissors\n",
    "        \n",
    "\n",
    "        print(color.BOLD+f\"You picked {player_1} and the computer picked {computer_choice}. \"+color.END, sep='\\n')  \n",
    "        #After your input, the programs displays what you and the computer both picked\n",
    "        \n",
    "        \n",
    "        if player_1 == computer_choice:   #if the player input and computer choice is the same, prints tie\n",
    "            print(color.BOLD+ \"GASP! It's a tie\"+color.END) \n",
    "            \n",
    "            \n",
    "         #The following segments evaluate the user input and computer choice based on the rules of the game   \n",
    "        \n",
    "        elif player_1 == \"Rock\":  \n",
    "                if computer_choice == \"Scissors\":  \n",
    "        #If player chooses rock and the computer chooses scissors, you win\n",
    "                    print(color.BOLD + \"Rock beats scissors! You won!\" + color.END)\n",
    "                else:  \n",
    "                    print(color.BOLD+ \"Paper beats Rock! You have lost :(\" +color.END)  \n",
    "                    \n",
    "        elif player_1 == \"Paper\": \n",
    "                if computer_choice == \"Rock\":   #If player chooses paper and the computer chooses rock, you win\n",
    "                    print(color.BOLD + \"Paper beats rock! You won!\"+ color.END)\n",
    "                else: \n",
    "                    print(color.BOLD+ \"Scissors beats paper! You have lost :(\" +color.END) \n",
    "                    \n",
    "        elif player_1 == \"Scissors\":    \n",
    "                if computer_choice == \"Paper\":    \n",
    "        #If player chooses scissors and the computer chooses paper, you win\n",
    "                    print(color.BOLD+ \"Scissors beats paper! You won!  \" + color.END)\n",
    "                else: \n",
    "                    print(color.BOLD+ \"Rock beats scissors! You have lost :(\"+color.END)\n",
    "    \n",
    "        elif player_1 == \"Done\":     #This ends the game\n",
    "            print(color.BOLD+ \"Game Over\" + color.END)\n",
    "            break\n",
    "    "
   ]
  },
  {
   "cell_type": "code",
   "execution_count": null,
   "id": "cdf80e6a",
   "metadata": {},
   "outputs": [],
   "source": []
  }
 ],
 "metadata": {
  "kernelspec": {
   "display_name": "Python 3",
   "language": "python",
   "name": "python3"
  },
  "language_info": {
   "codemirror_mode": {
    "name": "ipython",
    "version": 3
   },
   "file_extension": ".py",
   "mimetype": "text/x-python",
   "name": "python",
   "nbconvert_exporter": "python",
   "pygments_lexer": "ipython3",
   "version": "3.8.8"
  }
 },
 "nbformat": 4,
 "nbformat_minor": 5
}
